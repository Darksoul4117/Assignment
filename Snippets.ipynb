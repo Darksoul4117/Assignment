{
 "cells": [
  {
   "cell_type": "code",
   "execution_count": 2,
   "metadata": {},
   "outputs": [
    {
     "name": "stdout",
     "output_type": "stream",
     "text": [
      "True\n",
      "[1, 2, 3]\n",
      "['Z', 'e', 't', 'C', 'o', 'd', 'e']\n",
      "['Ruby', 'Python', 'Perl']\n"
     ]
    }
   ],
   "source": [
    "a = []\n",
    "b = list()\n",
    "\n",
    "print(a == b)\n",
    "\n",
    "print(list((1, 2, 3)))\n",
    "print(list(\"ZetCode\"))\n",
    "print(list(['Ruby', 'Python', 'Perl']))"
   ]
  },
  {
   "cell_type": "code",
   "execution_count": 5,
   "metadata": {},
   "outputs": [
    {
     "name": "stdout",
     "output_type": "stream",
     "text": [
      "p\n",
      "t\n",
      "s\n",
      "4\n"
     ]
    }
   ],
   "source": [
    "my_tuple = ('p','e','r','m','i','t')\n",
    "\n",
    "print(my_tuple[0])   # 'p' \n",
    "print(my_tuple[5])   # 't'\n",
    "\n",
    "n_tuple = (\"mouse\", [8, 4, 6], (1, 2, 3))\n",
    "print(n_tuple[0][3])       # 's'\n",
    "print(n_tuple[1][1])       # 4"
   ]
  },
  {
   "cell_type": "code",
   "execution_count": 9,
   "metadata": {},
   "outputs": [
    {
     "name": "stdout",
     "output_type": "stream",
     "text": [
      "{1: 'Gio', 2: 'For'}\n"
     ]
    }
   ],
   "source": [
    " myDict = {1: 'Gio', 2: 'For', 3: 'Games'} \n",
    "  \n",
    "\n",
    "delete = [key for key in myDict if key == 3] \n",
    "  \n",
    "for key in delete: del myDict[key] \n",
    "  \n",
    "print(myDict) "
   ]
  },
  {
   "cell_type": "code",
   "execution_count": null,
   "metadata": {},
   "outputs": [],
   "source": []
  }
 ],
 "metadata": {
  "kernelspec": {
   "display_name": "Python 3",
   "language": "python",
   "name": "python3"
  },
  "language_info": {
   "codemirror_mode": {
    "name": "ipython",
    "version": 3
   },
   "file_extension": ".py",
   "mimetype": "text/x-python",
   "name": "python",
   "nbconvert_exporter": "python",
   "pygments_lexer": "ipython3",
   "version": "3.7.6"
  }
 },
 "nbformat": 4,
 "nbformat_minor": 4
}
